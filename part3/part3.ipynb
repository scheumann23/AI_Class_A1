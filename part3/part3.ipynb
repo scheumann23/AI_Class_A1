{
 "metadata": {
  "language_info": {
   "codemirror_mode": {
    "name": "ipython",
    "version": 3
   },
   "file_extension": ".py",
   "mimetype": "text/x-python",
   "name": "python",
   "nbconvert_exporter": "python",
   "pygments_lexer": "ipython3",
   "version": "3.8.5-final"
  },
  "orig_nbformat": 2,
  "kernelspec": {
   "name": "Python 3.8.5 64-bit",
   "display_name": "Python 3.8.5 64-bit",
   "metadata": {
    "interpreter": {
     "hash": "3fcc8762d32b6e9fca2af7a200d6a904ed918ac25cace5a24ad2010b6c5f5099"
    }
   }
  }
 },
 "nbformat": 4,
 "nbformat_minor": 2,
 "cells": [
  {
   "cell_type": "code",
   "execution_count": 1,
   "metadata": {},
   "outputs": [],
   "source": [
    "import numpy as np \n",
    "import re\n",
    "import pandas as pd"
   ]
  },
  {
   "cell_type": "code",
   "execution_count": 67,
   "metadata": {},
   "outputs": [],
   "source": [
    "def load_data(file_name):\n",
    "    data_list = []\n",
    "    with open(file_name, 'r') as file:\n",
    "        for line in file:\n",
    "            line = line.strip('\\n')\n",
    "            data_list.append(list(line.split(' ')))\n",
    "    return data_list"
   ]
  },
  {
   "cell_type": "code",
   "execution_count": 68,
   "metadata": {},
   "outputs": [],
   "source": [
    "data = load_data('data.txt')"
   ]
  },
  {
   "cell_type": "code",
   "execution_count": 69,
   "metadata": {},
   "outputs": [
    {
     "output_type": "execute_result",
     "data": {
      "text/plain": "[[&#39;djcran&#39;, &#39;djcran-vkvats-nthakurd&#39;, &#39;sahmaini,swaltrip&#39;],\n [&#39;sahmaini&#39;, &#39;sahmaini&#39;, &#39;_&#39;],\n [&#39;sulagaop&#39;, &#39;sulagaop-xxx-xxx&#39;, &#39;_&#39;],\n [&#39;fanjun&#39;, &#39;fanjun-xxx&#39;, &#39;nthakurd,rowlavel&#39;],\n [&#39;nthakurd&#39;, &#39;nthakurd&#39;, &#39;djcran,fanjun,nmurph&#39;],\n [&#39;vkvats&#39;, &#39;vkvats-sahmaini&#39;, &#39;_&#39;],\n [&#39;rowlavel&#39;, &#39;rowlavel-djcran-xxx&#39;, &#39;fanjun,nthakurd,timc&#39;],\n [&#39;swaltrip&#39;, &#39;swaltrip-rowlavel&#39;, &#39;djcran,sulagaop&#39;],\n [&#39;nmurph&#39;, &#39;nmurph&#39;, &#39;_&#39;],\n [&#39;timc&#39;, &#39;timc-rowlavel-wagner&#39;, &#39;nmurph,djcran&#39;],\n [&#39;wagner&#39;, &#39;wanger-xxx-xxx&#39;, &#39;djcran,rowlavel,nmurph,sulagaop&#39;],\n [&#39;mattmcd&#39;, &#39;mattmcd-djcran-xxx&#39;, &#39;sahmaini,rowlavel,nthakurd&#39;],\n [&#39;benfarm&#39;, &#39;benfarm-xxx&#39;, &#39;_&#39;],\n [&#39;stavrop&#39;, &#39;stavrop-nmurph&#39;, &#39;rowlavel,timc,wagner&#39;],\n [&#39;sasham&#39;, &#39;sasham-xxx-xxx&#39;, &#39;_&#39;],\n [&#39;anthony&#39;, &#39;anthony-willm-rowlavel&#39;, &#39;timc,djcran,sulagaop&#39;],\n [&#39;willm&#39;, &#39;willm-rowlavel&#39;, &#39;_&#39;],\n [&#39;sunnyp&#39;, &#39;sunnyp-xxx-xxx&#39;, &#39;timc,wagner,vkvats,sahmaini&#39;]]"
     },
     "metadata": {},
     "execution_count": 69
    }
   ],
   "source": [
    "data"
   ]
  },
  {
   "cell_type": "code",
   "execution_count": 33,
   "metadata": {},
   "outputs": [],
   "source": [
    "def create_want_matrix(prefs):\n",
    "    labels = [people[0] for people in prefs]\n",
    "    total_list = []\n",
    "    for i in range(len(labels)):\n",
    "        want = prefs[i][1].split(\"-\")\n",
    "        ls = []\n",
    "        for label in labels:\n",
    "            if label in want:\n",
    "                ls.append(1)\n",
    "            else:\n",
    "                ls.append(0)\n",
    "        total_list.append(ls)\n",
    "    want_matrix = np.array(total_list)\n",
    "    return want_matrix"
   ]
  },
  {
   "cell_type": "code",
   "execution_count": 34,
   "metadata": {},
   "outputs": [],
   "source": [
    "def create_dont_want_matrix(prefs):\n",
    "    labels = [people[0] for people in prefs]\n",
    "    total_list = []\n",
    "    for i in range(len(labels)):\n",
    "        want = prefs[i][2].split(\",\")\n",
    "        ls = []\n",
    "        for label in labels:\n",
    "            if label in want:\n",
    "                ls.append(1)\n",
    "            else:\n",
    "                ls.append(0)\n",
    "        total_list.append(ls)\n",
    "    dont_want_matrix = np.array(total_list)\n",
    "    return dont_want_matrix"
   ]
  },
  {
   "cell_type": "code",
   "execution_count": 70,
   "metadata": {},
   "outputs": [
    {
     "output_type": "execute_result",
     "data": {
      "text/plain": "[&#39;djcran&#39;,\n &#39;sahmaini&#39;,\n &#39;sulagaop&#39;,\n &#39;fanjun&#39;,\n &#39;nthakurd&#39;,\n &#39;vkvats&#39;,\n &#39;rowlavel&#39;,\n &#39;swaltrip&#39;,\n &#39;nmurph&#39;,\n &#39;timc&#39;,\n &#39;wagner&#39;,\n &#39;mattmcd&#39;,\n &#39;benfarm&#39;,\n &#39;stavrop&#39;,\n &#39;sasham&#39;,\n &#39;anthony&#39;,\n &#39;willm&#39;,\n &#39;sunnyp&#39;]"
     },
     "metadata": {},
     "execution_count": 70
    }
   ],
   "source": [
    "labels = [people[0] for people in data]\n",
    "labels"
   ]
  },
  {
   "cell_type": "code",
   "execution_count": 71,
   "metadata": {},
   "outputs": [],
   "source": [
    "wants = create_want_matrix(data)\n",
    "dont_wants = create_dont_want_matrix(data)"
   ]
  },
  {
   "cell_type": "code",
   "execution_count": 37,
   "metadata": {},
   "outputs": [],
   "source": [
    "def group_size_vector(prefs):\n",
    "    sizes = np.array([(group[1].count(\"-\") + 1) for group in prefs])\n",
    "    return sizes"
   ]
  },
  {
   "cell_type": "code",
   "execution_count": 38,
   "metadata": {},
   "outputs": [],
   "source": [
    "def count_of_teams(sizes):\n",
    "    threes = 0 \n",
    "    twos = 0\n",
    "    ones = 0\n",
    "    for size in sizes:\n",
    "        if size == 3:\n",
    "            threes += 1\n",
    "        elif size == 2:\n",
    "            twos += 1\n",
    "        else:\n",
    "            ones += 1\n",
    "    return (threes / 3) + (twos / 2) + ones"
   ]
  },
  {
   "cell_type": "code",
   "execution_count": 72,
   "metadata": {},
   "outputs": [],
   "source": [
    "size = group_size_vector(data)"
   ]
  },
  {
   "cell_type": "code",
   "execution_count": 40,
   "metadata": {},
   "outputs": [],
   "source": [
    "def get_diag(matrix):\n",
    "    ls = []\n",
    "    for i in range(len(matrix)):\n",
    "        ls.append(matrix[i][i])\n",
    "    return np.array(ls)"
   ]
  },
  {
   "cell_type": "code",
   "execution_count": 41,
   "metadata": {},
   "outputs": [],
   "source": [
    "def most_unhappy(pairings, wants, dont_wants, group_size_pref, k, m, n, unhappy_people):\n",
    "    anti_pairings = (pairings * -1) + 1\n",
    "    bad_pairs = get_diag(np.matmul(pairings, dont_wants.transpose()))\n",
    "    missed_pairs = get_diag(np.matmul(anti_pairings, wants.transpose()))\n",
    "    wrong_sizes = compare_group_sizes(group_size_pref, group_sizes(pairings))\n",
    "    unhappy_dict = dict(enumerate((bad_pairs * m) + (missed_pairs * n) + wrong_sizes))\n",
    "    \n",
    "    for people in unhappy_people:\n",
    "        del unhappy_dict[people]\n",
    "    max_cost = -1\n",
    "    max_index = 0\n",
    "    for i, j in unhappy_dict.items():\n",
    "        if j > max_cost:\n",
    "            max_index = i\n",
    "            max_cost = j\n",
    "    return max_index"
   ]
  },
  {
   "cell_type": "code",
   "execution_count": 42,
   "metadata": {},
   "outputs": [],
   "source": [
    "def create_initial_state(prefs):\n",
    "    num_people = len(prefs)\n",
    "    initial_state = np.ones((num_people, num_people))\n",
    "    for row in range(num_people):\n",
    "        for col in range(num_people):\n",
    "            if  (col < ((row // 3)) * 3) or (col >= ((row // 3)+1) * 3):\n",
    "                initial_state[row, col] = 0\n",
    "    return initial_state\n"
   ]
  },
  {
   "cell_type": "code",
   "execution_count": 73,
   "metadata": {
    "tags": []
   },
   "outputs": [],
   "source": [
    "initial = create_initial_state(data)"
   ]
  },
  {
   "cell_type": "code",
   "execution_count": 44,
   "metadata": {},
   "outputs": [],
   "source": [
    "def group_sizes(pairings):\n",
    "    sizes = [sum(rows) for rows in pairings]\n",
    "    return sizes"
   ]
  },
  {
   "cell_type": "code",
   "execution_count": 45,
   "metadata": {},
   "outputs": [],
   "source": [
    "def compare_group_sizes(size1, size2):\n",
    "    ls = []\n",
    "    for i in range(len(size1)):\n",
    "        if size1[i] == size2[i]:\n",
    "            ls.append(0)\n",
    "        else:\n",
    "            ls.append(1)\n",
    "    return np.array(ls)"
   ]
  },
  {
   "cell_type": "code",
   "execution_count": 46,
   "metadata": {},
   "outputs": [],
   "source": [
    "def group_size_difs(size1, size2):\n",
    "    ls = []\n",
    "    for i in range(len(size1)):\n",
    "        if size1[i] == size2[i]:\n",
    "            ls.append(0)\n",
    "        else:\n",
    "            ls.append(1)\n",
    "    return sum(ls)"
   ]
  },
  {
   "cell_type": "code",
   "execution_count": 47,
   "metadata": {},
   "outputs": [],
   "source": [
    "def total_grading_time(pairings, wants, dont_wants, group_size_pref, k, m, n):\n",
    "    anti_pairings = (pairings * -1) + 1\n",
    "    bad_pairs = np.trace(np.matmul(pairings, dont_wants.transpose()))\n",
    "    missed_pairs = np.trace(np.matmul(anti_pairings, wants.transpose()))\n",
    "    wrong_sizes = group_size_difs(group_size_pref, group_sizes(pairings))\n",
    "    num_teams = count_of_teams(group_sizes(pairings))\n",
    "    return (num_teams * k) + (bad_pairs * m) + (missed_pairs * n) + wrong_sizes"
   ]
  },
  {
   "cell_type": "code",
   "execution_count": 48,
   "metadata": {},
   "outputs": [],
   "source": [
    "def swap_people(pairings, p1, p2):\n",
    "    new_pairings = np.copy(pairings)\n",
    "    num_p = len(pairings)\n",
    "    orig_pair_1_vec = pairings[p1]\n",
    "    orig_pair_2_vec = pairings[p2]\n",
    "    p1_vec = [1 if i == p1 else 0 for i in range(num_p)]\n",
    "    p2_vec = [1 if i == p2 else 0 for i in range(num_p)]\n",
    "    new_pair_1_vec = orig_pair_2_vec - p2_vec + p1_vec\n",
    "    new_pair_2_vec = orig_pair_1_vec - p1_vec + p2_vec\n",
    "    for i in range(num_p):\n",
    "        if new_pair_1_vec[i] == 1:\n",
    "            new_pairings[i] = new_pair_1_vec\n",
    "    for i in range(num_p):\n",
    "        if new_pair_2_vec[i] == 1:\n",
    "            new_pairings[i] = new_pair_2_vec\n",
    "    return new_pairings"
   ]
  },
  {
   "cell_type": "code",
   "execution_count": 65,
   "metadata": {},
   "outputs": [],
   "source": [
    "def next_best_move(pairings, wants, dont_wants, group_size_pref, k, m, n):\n",
    "    unhappy_people = []\n",
    "    all_people = list(range(len(pairings)))\n",
    "    i = 0\n",
    "    while set(unhappy_people) != set(all_people):\n",
    "        cost = total_grading_time(pairings, wants, dont_wants, group_size_pref, k, m, n)\n",
    "        initial_cost = cost\n",
    "        most_unhappy_person = most_unhappy(pairings, wants, dont_wants, group_size_pref, k, m, n, unhappy_people)\n",
    "        unhappy_person_vec = pairings[most_unhappy_person]\n",
    "        possible_solution = pairings\n",
    "        if i == 0:\n",
    "            print(get_group_names(possible_solution,labels), cost)\n",
    "        ## test all the possible swaps\n",
    "        for i in range(len(pairings)):\n",
    "            if unhappy_person_vec[i] == 0:\n",
    "                new_pairings = swap_people(pairings, most_unhappy_person, i)\n",
    "                if total_grading_time(new_pairings, wants, dont_wants, group_size_pref, k, m, n) < cost:\n",
    "                    possible_solution = new_pairings\n",
    "                    cost = total_grading_time(new_pairings, wants, dont_wants, group_size_pref, k, m, n)\n",
    "                    print(get_group_names(possible_solution,labels), cost)\n",
    "        ## try moving the person to a team of two\n",
    "        for move in possible_moves_double(pairings, most_unhappy_person):\n",
    "            new_pairings = move_person_double(pairings, most_unhappy_person, move)\n",
    "            if total_grading_time(new_pairings, wants, dont_wants, group_size_pref, k, m, n) < cost:\n",
    "                possible_solution = new_pairings\n",
    "                cost = total_grading_time(new_pairings, wants, dont_wants, group_size_pref, k, m, n)\n",
    "                print(get_group_names(possible_solution,labels), cost)\n",
    "        ## try moving the person to a team of one\n",
    "        for move in possible_moves_single(pairings, most_unhappy_person):\n",
    "            new_pairings = move_person_single(pairings, most_unhappy_person, move)\n",
    "            if total_grading_time(new_pairings, wants, dont_wants, group_size_pref, k, m, n) < cost:\n",
    "                possible_solution = new_pairings\n",
    "                cost = total_grading_time(new_pairings, wants, dont_wants, group_size_pref, k, m, n)\n",
    "                print(get_group_names(possible_solution,labels), cost)\n",
    "        ## try creating a new team (team of one) for this person\n",
    "        new_pairings = create_new_team(pairings, most_unhappy_person)\n",
    "        if total_grading_time(new_pairings, wants, dont_wants, group_size_pref, k, m, n) < cost:\n",
    "            possible_solution = new_pairings\n",
    "            cost = total_grading_time(new_pairings, wants, dont_wants, group_size_pref, k, m, n)\n",
    "            print(get_group_names(possible_solution,labels), cost)\n",
    "        ## set up everything for the next loop\n",
    "        if cost != initial_cost:\n",
    "            unhappy_people = [most_unhappy_person]\n",
    "        else:\n",
    "            unhappy_people.append(most_unhappy_person)\n",
    "        pairings = possible_solution\n",
    "        i+=1"
   ]
  },
  {
   "cell_type": "code",
   "execution_count": 50,
   "metadata": {},
   "outputs": [],
   "source": [
    "def get_group_names(group_grid, labels):\n",
    "    str_names = ''\n",
    "    if type(group_grid) != 'numpy.ndarray':\n",
    "        group_grid = np.array(group_grid)\n",
    "    unique_groups = np.unique(group_grid, axis = 0)\n",
    "    name_index = [list(ind[0]) for ind in [np.where(team == 1) for team in unique_groups]]\n",
    "    for name in name_index:\n",
    "        for i, index in enumerate(name):\n",
    "            if len(name) == i + 1:\n",
    "                str_names += labels[index]\n",
    "            else:\n",
    "                str_names += labels[index] + '-'\n",
    "        str_names += '\\n'\n",
    "    return str_names"
   ]
  },
  {
   "cell_type": "code",
   "execution_count": 51,
   "metadata": {},
   "outputs": [],
   "source": [
    "def possible_moves_single(pairings, p1):\n",
    "    groups = group_sizes(pairings)\n",
    "    possible_places = [i for i in range(len(groups)) if groups[i] == 1 and i !=p1]\n",
    "    return possible_places"
   ]
  },
  {
   "cell_type": "code",
   "execution_count": 52,
   "metadata": {},
   "outputs": [],
   "source": [
    "def possible_moves_double(pairings, p1):\n",
    "    groups = group_sizes(pairings)\n",
    "    possible_places = [i for i in range(len(groups)) if groups[i] == 2 and i !=p1]\n",
    "    return possible_places"
   ]
  },
  {
   "cell_type": "code",
   "execution_count": 53,
   "metadata": {},
   "outputs": [],
   "source": [
    "def move_person_single(pairings, p1, t):\n",
    "    new_pairings = np.copy(pairings)\n",
    "    for rows in range(len(pairings)):\n",
    "        if rows == t:\n",
    "            new_pairings[rows, p1] = 1\n",
    "        elif rows != p1:\n",
    "            new_pairings[rows, p1] = 0\n",
    "    for cols in range(len(pairings)):\n",
    "        if cols == t:\n",
    "            new_pairings[p1, cols] = 1\n",
    "        elif cols != p1:\n",
    "            new_pairings[p1, cols] = 0\n",
    "    return new_pairings"
   ]
  },
  {
   "cell_type": "code",
   "execution_count": 54,
   "metadata": {},
   "outputs": [],
   "source": [
    "def create_new_team(pairings, p1):\n",
    "    new_pairings = np.copy(pairings)\n",
    "    for rows in range(len(pairings)):\n",
    "        if rows != p1:\n",
    "            new_pairings[rows, p1] = 0\n",
    "    for cols in range(len(pairings)):\n",
    "        if cols != p1:\n",
    "            new_pairings[p1, cols] = 0\n",
    "    return new_pairings"
   ]
  },
  {
   "cell_type": "code",
   "execution_count": 55,
   "metadata": {},
   "outputs": [],
   "source": [
    "def move_person_double(pairings, p1, t):\n",
    "    new_pairings = np.copy(pairings)\n",
    "    t_team = pairings[t]\n",
    "    members = [i for i in range(len(t_team)) if t_team[i] ==1]\n",
    "    for rows in range(len(pairings)):\n",
    "        if rows in members:\n",
    "            new_pairings[rows, p1] = 1\n",
    "        elif rows != p1:\n",
    "            new_pairings[rows, p1] = 0\n",
    "    for cols in range(len(pairings)):\n",
    "        if cols in members:\n",
    "            new_pairings[p1, cols] = 1\n",
    "        elif cols != p1:\n",
    "            new_pairings[p1, cols] = 0\n",
    "    return new_pairings\n"
   ]
  },
  {
   "cell_type": "code",
   "execution_count": 74,
   "metadata": {
    "tags": []
   },
   "outputs": [
    {
     "output_type": "stream",
     "name": "stdout",
     "text": "CPU times: user 2 µs, sys: 0 ns, total: 2 µs\nWall time: 4.05 µs\nanthony-willm-sunnyp\nbenfarm-stavrop-sasham\ntimc-wagner-mattmcd\nrowlavel-swaltrip-nmurph\nfanjun-nthakurd-vkvats\ndjcran-sahmaini-sulagaop\n 339.0\nanthony-willm-sunnyp\nbenfarm-stavrop-sasham\ntimc-wagner-mattmcd\nrowlavel-swaltrip-nmurph\nsahmaini-sulagaop-fanjun\ndjcran-nthakurd-vkvats\n 279.0\nanthony-willm-sunnyp\nbenfarm-stavrop-sasham\ntimc-wagner-mattmcd\nrowlavel-swaltrip-nmurph\nsahmaini-sulagaop-nthakurd\ndjcran-fanjun-vkvats\n 269.0\nbenfarm-stavrop-sasham\ntimc-wagner-mattmcd\nswaltrip-nmurph-sunnyp\nrowlavel-anthony-willm\nsahmaini-sulagaop-nthakurd\ndjcran-fanjun-vkvats\n 259.0\ntimc-wagner-mattmcd\nnmurph-stavrop-sunnyp\nswaltrip-benfarm-sasham\nrowlavel-anthony-willm\nsahmaini-sulagaop-nthakurd\ndjcran-fanjun-vkvats\n 249.0\nnmurph-stavrop-sunnyp\nswaltrip-benfarm-sasham\nrowlavel-anthony-willm\nfanjun-timc-wagner\nsahmaini-sulagaop-nthakurd\ndjcran-vkvats-mattmcd\n 239.0\n"
    }
   ],
   "source": [
    "%time\n",
    "next_best_move(initial, wants, dont_wants, size, 30, 20, 10)"
   ]
  },
  {
   "cell_type": "code",
   "execution_count": 80,
   "metadata": {},
   "outputs": [
    {
     "output_type": "execute_result",
     "data": {
      "text/plain": "239.0"
     },
     "metadata": {},
     "execution_count": 80
    }
   ],
   "source": [
    "total_grading_time(test, wants, dont_wants, size, 30, 20, 10)"
   ]
  },
  {
   "cell_type": "code",
   "execution_count": null,
   "metadata": {},
   "outputs": [],
   "source": []
  },
  {
   "cell_type": "code",
   "execution_count": 78,
   "metadata": {},
   "outputs": [],
   "source": [
    "test = np.array([[1,\t0,\t0,\t1,\t0,\t0,\t0,\t0,\t0,\t0,\t0,\t1,\t0,\t0,\t0,\t0,\t0,\t0],\n",
    "[0,\t1,\t0,\t0,\t0,\t1,\t0,\t0,\t0,\t0,\t0,\t0,\t1,\t0,\t0,\t0,\t0,\t0],\n",
    "[0,\t0,\t1,\t0,\t1,\t0,\t0,\t0,\t0,\t0,\t0,\t0,\t0,\t0,\t0,\t0,\t0,\t1],\n",
    "[1,\t0,\t0,\t1,\t0,\t0,\t0,\t0,\t0,\t0,\t0,\t1,\t0,\t0,\t0,\t0,\t0,\t0],\n",
    "[0,\t0,\t1,\t0,\t1,\t0,\t0,\t0,\t0,\t0,\t0,\t0,\t0,\t0,\t0,\t0,\t0,\t1],\n",
    "[0,\t1,\t0,\t0,\t0,\t1,\t0,\t0,\t0,\t0,\t0,\t0,\t1,\t0,\t0,\t0,\t0,\t0],\n",
    "[0,\t0,\t0,\t0,\t0,\t0,\t1,\t0,\t0,\t0,\t0,\t0,\t0,\t0,\t0,\t1,\t1,\t0],\n",
    "[0,\t0,\t0,\t0,\t0,\t0,\t0,\t1,\t1,\t0,\t0,\t0,\t0,\t1,\t0,\t0,\t0,\t0],\n",
    "[0,\t0,\t0,\t0,\t0,\t0,\t0,\t1,\t1,\t0,\t0,\t0,\t0,\t1,\t0,\t0,\t0,\t0],\n",
    "[0,\t0,\t0,\t0,\t0,\t0,\t0,\t0,\t0,\t1,\t1,\t0,\t0,\t0,\t1,\t0,\t0,\t0],\n",
    "[0,\t0,\t0,\t0,\t0,\t0,\t0,\t0,\t0,\t1,\t1,\t0,\t0,\t0,\t1,\t0,\t0,\t0],\n",
    "[1,\t0,\t0,\t1,\t0,\t0,\t0,\t0,\t0,\t0,\t0,\t1,\t0,\t0,\t0,\t0,\t0,\t0],\n",
    "[0,\t1,\t0,\t0,\t0,\t1,\t0,\t0,\t0,\t0,\t0,\t0,\t1,\t0,\t0,\t0,\t0,\t0],\n",
    "[0,\t0,\t0,\t0,\t0,\t0,\t0,\t1,\t1,\t0,\t0,\t0,\t0,\t1,\t0,\t0,\t0,\t0],\n",
    "[0,\t0,\t0,\t0,\t0,\t0,\t0,\t0,\t0,\t1,\t1,\t0,\t0,\t0,\t1,\t0,\t0,\t0],\n",
    "[0,\t0,\t0,\t0,\t0,\t0,\t1,\t0,\t0,\t0,\t0,\t0,\t0,\t0,\t0,\t1,\t1,\t0],\n",
    "[0,\t0,\t0,\t0,\t0,\t0,\t1,\t0,\t0,\t0,\t0,\t0,\t0,\t0,\t0,\t1,\t1,\t0],\n",
    "[0,\t0,\t1,\t0,\t1,\t0,\t0,\t0,\t0,\t0,\t0,\t0,\t0,\t0,\t0,\t0,\t0,\t1]])"
   ]
  },
  {
   "cell_type": "code",
   "execution_count": 79,
   "metadata": {},
   "outputs": [
    {
     "output_type": "execute_result",
     "data": {
      "text/plain": "array([[1, 0, 0, 1, 0, 0, 0, 0, 0, 0, 0, 1, 0, 0, 0, 0, 0, 0],\n       [0, 1, 0, 0, 0, 1, 0, 0, 0, 0, 0, 0, 1, 0, 0, 0, 0, 0],\n       [0, 0, 1, 0, 1, 0, 0, 0, 0, 0, 0, 0, 0, 0, 0, 0, 0, 1],\n       [1, 0, 0, 1, 0, 0, 0, 0, 0, 0, 0, 1, 0, 0, 0, 0, 0, 0],\n       [0, 0, 1, 0, 1, 0, 0, 0, 0, 0, 0, 0, 0, 0, 0, 0, 0, 1],\n       [0, 1, 0, 0, 0, 1, 0, 0, 0, 0, 0, 0, 1, 0, 0, 0, 0, 0],\n       [0, 0, 0, 0, 0, 0, 1, 0, 0, 0, 0, 0, 0, 0, 0, 1, 1, 0],\n       [0, 0, 0, 0, 0, 0, 0, 1, 1, 0, 0, 0, 0, 1, 0, 0, 0, 0],\n       [0, 0, 0, 0, 0, 0, 0, 1, 1, 0, 0, 0, 0, 1, 0, 0, 0, 0],\n       [0, 0, 0, 0, 0, 0, 0, 0, 0, 1, 1, 0, 0, 0, 1, 0, 0, 0],\n       [0, 0, 0, 0, 0, 0, 0, 0, 0, 1, 1, 0, 0, 0, 1, 0, 0, 0],\n       [1, 0, 0, 1, 0, 0, 0, 0, 0, 0, 0, 1, 0, 0, 0, 0, 0, 0],\n       [0, 1, 0, 0, 0, 1, 0, 0, 0, 0, 0, 0, 1, 0, 0, 0, 0, 0],\n       [0, 0, 0, 0, 0, 0, 0, 1, 1, 0, 0, 0, 0, 1, 0, 0, 0, 0],\n       [0, 0, 0, 0, 0, 0, 0, 0, 0, 1, 1, 0, 0, 0, 1, 0, 0, 0],\n       [0, 0, 0, 0, 0, 0, 1, 0, 0, 0, 0, 0, 0, 0, 0, 1, 1, 0],\n       [0, 0, 0, 0, 0, 0, 1, 0, 0, 0, 0, 0, 0, 0, 0, 1, 1, 0],\n       [0, 0, 1, 0, 1, 0, 0, 0, 0, 0, 0, 0, 0, 0, 0, 0, 0, 1]])"
     },
     "metadata": {},
     "execution_count": 79
    }
   ],
   "source": [
    "test"
   ]
  },
  {
   "cell_type": "code",
   "execution_count": null,
   "metadata": {},
   "outputs": [],
   "source": []
  }
 ]
}