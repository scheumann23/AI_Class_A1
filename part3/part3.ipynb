{
 "metadata": {
  "language_info": {
   "codemirror_mode": {
    "name": "ipython",
    "version": 3
   },
   "file_extension": ".py",
   "mimetype": "text/x-python",
   "name": "python",
   "nbconvert_exporter": "python",
   "pygments_lexer": "ipython3",
   "version": "3.7.7-final"
  },
  "orig_nbformat": 2,
  "kernelspec": {
   "name": "python_defaultSpec_1601608062015",
   "display_name": "Python 3.7.7 64-bit ('AI_Class': conda)"
  }
 },
 "nbformat": 4,
 "nbformat_minor": 2,
 "cells": [
  {
   "cell_type": "code",
   "execution_count": 72,
   "metadata": {},
   "outputs": [],
   "source": [
    "import numpy as np \n",
    "import re\n",
    "import pandas as pd"
   ]
  },
  {
   "cell_type": "code",
   "execution_count": 68,
   "metadata": {},
   "outputs": [],
   "source": [
    "def load_data(file_name):\n",
    "    data_list = []\n",
    "    with open(file_name, 'r') as file:\n",
    "        for line in file:\n",
    "            line = line.strip('\\n')\n",
    "            data_list.append(list(line.split(' ')))\n",
    "    return data_list"
   ]
  },
  {
   "cell_type": "code",
   "execution_count": 69,
   "metadata": {},
   "outputs": [],
   "source": [
    "data = load_data('data.txt')"
   ]
  },
  {
   "cell_type": "code",
   "execution_count": 70,
   "metadata": {},
   "outputs": [
    {
     "output_type": "execute_result",
     "data": {
      "text/plain": "[['djcran', 'djcran-vkvats-nthakurd', 'sahmaini'],\n ['sahmaini', 'sahmaini', '_'],\n ['sulagaop', 'sulagaop-xxx-xxx', '_'],\n ['fanjun', 'fanjun-xxx', 'nthakurd'],\n ['nthakurd', 'nthakurd', 'djcran,fanjun'],\n ['vkvats', 'vkvats-sahmaini', '_']]"
     },
     "metadata": {},
     "execution_count": 70
    }
   ],
   "source": [
    "data"
   ]
  },
  {
   "cell_type": "code",
   "execution_count": 91,
   "metadata": {},
   "outputs": [],
   "source": [
    "def create_want_matrix(prefs):\n",
    "    labels = [people[0] for people in prefs]\n",
    "    total_list = []\n",
    "    for i in range(len(labels)):\n",
    "        want = prefs[i][1].split(\"-\")\n",
    "        ls = []\n",
    "        for label in labels:\n",
    "            if label in want:\n",
    "                ls.append(1)\n",
    "            else:\n",
    "                ls.append(0)\n",
    "        total_list.append(ls)\n",
    "    want_matrix = pd.DataFrame(total_list, columns = labels)\n",
    "    return want_matrix"
   ]
  },
  {
   "cell_type": "code",
   "execution_count": 93,
   "metadata": {},
   "outputs": [],
   "source": [
    "def create_dont_want_matrix(prefs):\n",
    "    labels = [people[0] for people in prefs]\n",
    "    total_list = []\n",
    "    for i in range(len(labels)):\n",
    "        want = prefs[i][2].split(\",\")\n",
    "        ls = []\n",
    "        for label in labels:\n",
    "            if label in want:\n",
    "                ls.append(1)\n",
    "            else:\n",
    "                ls.append(0)\n",
    "        total_list.append(ls)\n",
    "    dont_want_matrix = pd.DataFrame(total_list, columns = labels)\n",
    "    return dont_want_matrix"
   ]
  },
  {
   "cell_type": "code",
   "execution_count": 94,
   "metadata": {},
   "outputs": [
    {
     "output_type": "execute_result",
     "data": {
      "text/plain": "   djcran  sahmaini  sulagaop  fanjun  nthakurd  vkvats\n0       0         1         0       0         0       0\n1       0         0         0       0         0       0\n2       0         0         0       0         0       0\n3       0         0         0       0         1       0\n4       1         0         0       1         0       0\n5       0         0         0       0         0       0",
      "text/html": "<div>\n<style scoped>\n    .dataframe tbody tr th:only-of-type {\n        vertical-align: middle;\n    }\n\n    .dataframe tbody tr th {\n        vertical-align: top;\n    }\n\n    .dataframe thead th {\n        text-align: right;\n    }\n</style>\n<table border=\"1\" class=\"dataframe\">\n  <thead>\n    <tr style=\"text-align: right;\">\n      <th></th>\n      <th>djcran</th>\n      <th>sahmaini</th>\n      <th>sulagaop</th>\n      <th>fanjun</th>\n      <th>nthakurd</th>\n      <th>vkvats</th>\n    </tr>\n  </thead>\n  <tbody>\n    <tr>\n      <th>0</th>\n      <td>0</td>\n      <td>1</td>\n      <td>0</td>\n      <td>0</td>\n      <td>0</td>\n      <td>0</td>\n    </tr>\n    <tr>\n      <th>1</th>\n      <td>0</td>\n      <td>0</td>\n      <td>0</td>\n      <td>0</td>\n      <td>0</td>\n      <td>0</td>\n    </tr>\n    <tr>\n      <th>2</th>\n      <td>0</td>\n      <td>0</td>\n      <td>0</td>\n      <td>0</td>\n      <td>0</td>\n      <td>0</td>\n    </tr>\n    <tr>\n      <th>3</th>\n      <td>0</td>\n      <td>0</td>\n      <td>0</td>\n      <td>0</td>\n      <td>1</td>\n      <td>0</td>\n    </tr>\n    <tr>\n      <th>4</th>\n      <td>1</td>\n      <td>0</td>\n      <td>0</td>\n      <td>1</td>\n      <td>0</td>\n      <td>0</td>\n    </tr>\n    <tr>\n      <th>5</th>\n      <td>0</td>\n      <td>0</td>\n      <td>0</td>\n      <td>0</td>\n      <td>0</td>\n      <td>0</td>\n    </tr>\n  </tbody>\n</table>\n</div>"
     },
     "metadata": {},
     "execution_count": 94
    }
   ],
   "source": [
    "create_dont_want_matrix(data)"
   ]
  },
  {
   "cell_type": "code",
   "execution_count": 88,
   "metadata": {},
   "outputs": [
    {
     "output_type": "execute_result",
     "data": {
      "text/plain": "   djcran  sahmaini  sulagaop  fanjun  nthakurd  vkvats\n0       1         0         0       0         1       1\n1       0         1         0       0         0       0\n2       0         0         1       0         0       0\n3       0         0         0       1         0       0\n4       0         0         0       0         1       0\n5       0         1         0       0         0       1",
      "text/html": "<div>\n<style scoped>\n    .dataframe tbody tr th:only-of-type {\n        vertical-align: middle;\n    }\n\n    .dataframe tbody tr th {\n        vertical-align: top;\n    }\n\n    .dataframe thead th {\n        text-align: right;\n    }\n</style>\n<table border=\"1\" class=\"dataframe\">\n  <thead>\n    <tr style=\"text-align: right;\">\n      <th></th>\n      <th>djcran</th>\n      <th>sahmaini</th>\n      <th>sulagaop</th>\n      <th>fanjun</th>\n      <th>nthakurd</th>\n      <th>vkvats</th>\n    </tr>\n  </thead>\n  <tbody>\n    <tr>\n      <th>0</th>\n      <td>1</td>\n      <td>0</td>\n      <td>0</td>\n      <td>0</td>\n      <td>1</td>\n      <td>1</td>\n    </tr>\n    <tr>\n      <th>1</th>\n      <td>0</td>\n      <td>1</td>\n      <td>0</td>\n      <td>0</td>\n      <td>0</td>\n      <td>0</td>\n    </tr>\n    <tr>\n      <th>2</th>\n      <td>0</td>\n      <td>0</td>\n      <td>1</td>\n      <td>0</td>\n      <td>0</td>\n      <td>0</td>\n    </tr>\n    <tr>\n      <th>3</th>\n      <td>0</td>\n      <td>0</td>\n      <td>0</td>\n      <td>1</td>\n      <td>0</td>\n      <td>0</td>\n    </tr>\n    <tr>\n      <th>4</th>\n      <td>0</td>\n      <td>0</td>\n      <td>0</td>\n      <td>0</td>\n      <td>1</td>\n      <td>0</td>\n    </tr>\n    <tr>\n      <th>5</th>\n      <td>0</td>\n      <td>1</td>\n      <td>0</td>\n      <td>0</td>\n      <td>0</td>\n      <td>1</td>\n    </tr>\n  </tbody>\n</table>\n</div>"
     },
     "metadata": {},
     "execution_count": 88
    }
   ],
   "source": [
    "labels = [people[0] for people in data]\n",
    "overall = []\n",
    "for i in range(len(labels)):\n",
    "    want = data[i][1].split(\"-\")\n",
    "    test = []\n",
    "    for label in labels:\n",
    "        if label in want:\n",
    "            test.append(1)\n",
    "        else:\n",
    "            test.append(0)\n",
    "    overall.append(test)\n",
    "want_matrix = pd.DataFrame(overall, columns = labels)\n",
    "\n",
    "want_matrix"
   ]
  },
  {
   "cell_type": "code",
   "execution_count": 81,
   "metadata": {},
   "outputs": [
    {
     "output_type": "execute_result",
     "data": {
      "text/plain": "[1, 1, 1]"
     },
     "metadata": {},
     "execution_count": 81
    }
   ],
   "source": [
    "test"
   ]
  },
  {
   "cell_type": "code",
   "execution_count": 43,
   "metadata": {},
   "outputs": [
    {
     "output_type": "execute_result",
     "data": {
      "text/plain": "['djcran', 'sahmaini', 'sulagaop', 'fanjun', 'nthakurd', 'vkvats']"
     },
     "metadata": {},
     "execution_count": 43
    }
   ],
   "source": [
    "create_want_matrix(data)"
   ]
  },
  {
   "cell_type": "code",
   "execution_count": 48,
   "metadata": {},
   "outputs": [],
   "source": [
    "def group_size_vector(prefs):\n",
    "    sizes = np.array([(group[1].count(\"-\") + 1) for group in prefs])\n",
    "    return sizes"
   ]
  },
  {
   "cell_type": "code",
   "execution_count": 83,
   "metadata": {},
   "outputs": [],
   "source": [
    "def count_of_teams(sizes):\n",
    "    threes = 0 \n",
    "    twos = 0\n",
    "    ones = 0\n",
    "    for size in sizes:\n",
    "        if size == 3:\n",
    "            threes += 1\n",
    "        elif size == 2:\n",
    "            twos += 1\n",
    "        else:\n",
    "            ones += 1\n",
    "    return (threes / 3) + (twos / 2) + ones"
   ]
  },
  {
   "cell_type": "code",
   "execution_count": 84,
   "metadata": {},
   "outputs": [
    {
     "output_type": "execute_result",
     "data": {
      "text/plain": "6.0"
     },
     "metadata": {},
     "execution_count": 84
    }
   ],
   "source": [
    "count_of_teams(sizes)"
   ]
  },
  {
   "cell_type": "code",
   "execution_count": 52,
   "metadata": {},
   "outputs": [
    {
     "output_type": "execute_result",
     "data": {
      "text/plain": "array([3, 1, 3, 2, 1, 2])"
     },
     "metadata": {},
     "execution_count": 52
    }
   ],
   "source": [
    "group_size_vector(data)"
   ]
  },
  {
   "cell_type": "code",
   "execution_count": 53,
   "metadata": {},
   "outputs": [],
   "source": [
    "sizes = np.array([3, 3, 3, 2, 2, 2, 2, 1, 1, 1])"
   ]
  },
  {
   "cell_type": "code",
   "execution_count": null,
   "metadata": {},
   "outputs": [],
   "source": []
  }
 ]
}